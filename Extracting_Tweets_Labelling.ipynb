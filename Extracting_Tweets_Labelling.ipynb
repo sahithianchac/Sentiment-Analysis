{
 "cells": [
  {
   "cell_type": "code",
   "execution_count": 1,
   "metadata": {},
   "outputs": [
    {
     "name": "stdout",
     "output_type": "stream",
     "text": [
      "Obtaining GetOldTweets3 from git+https://github.com/Mottl/GetOldTweets3#egg=GetOldTweets3\n",
      "  Updating ./src/getoldtweets3 clone\n",
      "  Running command git fetch -q --tags\n",
      "  Running command git reset --hard -q 4ede9ef03f2320b7f0a780795b0f18f3f05939bb\n",
      "Requirement already satisfied: lxml>=3.5.0 in /Users/rupakulasaiabhishek/opt/anaconda3/lib/python3.7/site-packages (from GetOldTweets3) (4.4.1)\n",
      "Requirement already satisfied: pyquery>=1.2.10 in /Users/rupakulasaiabhishek/opt/anaconda3/lib/python3.7/site-packages (from GetOldTweets3) (1.4.1)\n",
      "Requirement already satisfied: cssselect>0.7.9 in /Users/rupakulasaiabhishek/opt/anaconda3/lib/python3.7/site-packages (from pyquery>=1.2.10->GetOldTweets3) (1.1.0)\n",
      "Installing collected packages: GetOldTweets3\n",
      "  Found existing installation: GetOldTweets3 0.0.11\n",
      "    Uninstalling GetOldTweets3-0.0.11:\n",
      "      Successfully uninstalled GetOldTweets3-0.0.11\n",
      "  Running setup.py develop for GetOldTweets3\n",
      "Successfully installed GetOldTweets3\n"
     ]
    }
   ],
   "source": [
    "!pip install -e git+https://github.com/Mottl/GetOldTweets3#egg=GetOldTweets3"
   ]
  },
  {
   "cell_type": "code",
   "execution_count": 2,
   "metadata": {},
   "outputs": [],
   "source": [
    "import re # regular expression / regex\n",
    "import tweepy #Collect tweets\n",
    "from tweepy import OAuthHandler # Authentication\n",
    "from textblob import TextBlob # provides text mining, text analysis and text processing modules\n",
    "import seaborn as sns\n",
    "sns.set(style='darkgrid', context='talk', palette='Dark2')\n",
    "import pandas as pd\n",
    "import matplotlib.pyplot as plt"
   ]
  },
  {
   "cell_type": "code",
   "execution_count": 3,
   "metadata": {},
   "outputs": [
    {
     "name": "stdout",
     "output_type": "stream",
     "text": [
      "Downloading tweets...\n",
      "Saved 600\n",
      "Done. Output file generated \"output_got.csv\".\n"
     ]
    }
   ],
   "source": [
    "!GetOldTweets3 --querysearch \"nrc\" --since 2019-12-15 --until 2020-02-15 --maxtweets 600 --lang en --emoji unicode"
   ]
  },
  {
   "cell_type": "code",
   "execution_count": 4,
   "metadata": {},
   "outputs": [],
   "source": [
    "import pandas as pd\n",
    "nrc = pd.read_csv(\"output_got.csv\")"
   ]
  },
  {
   "cell_type": "code",
   "execution_count": 5,
   "metadata": {},
   "outputs": [
    {
     "name": "stdout",
     "output_type": "stream",
     "text": [
      "Downloading tweets...\n",
      "Saved 600\n",
      "Done. Output file generated \"output_got.csv\".\n"
     ]
    }
   ],
   "source": [
    "!GetOldTweets3 --querysearch \"caa\" --since 2019-12-15 --until 2020-02-15 --maxtweets 600 --lang en --emoji unicode"
   ]
  },
  {
   "cell_type": "code",
   "execution_count": 6,
   "metadata": {},
   "outputs": [],
   "source": [
    "caa = pd.read_csv(\"output_got.csv\")"
   ]
  },
  {
   "cell_type": "code",
   "execution_count": 7,
   "metadata": {},
   "outputs": [
    {
     "name": "stdout",
     "output_type": "stream",
     "text": [
      "Downloading tweets...\n",
      "Saved 600\n",
      "Done. Output file generated \"output_got.csv\".\n"
     ]
    }
   ],
   "source": [
    "!GetOldTweets3 --querysearch \"CAA_NRC\" --since 2019-12-15 --until 2020-02-15 --maxtweets 600 --lang en --emoji unicode"
   ]
  },
  {
   "cell_type": "code",
   "execution_count": 8,
   "metadata": {},
   "outputs": [],
   "source": [
    "caa_nrc = pd.read_csv(\"output_got.csv\")"
   ]
  },
  {
   "cell_type": "code",
   "execution_count": 9,
   "metadata": {},
   "outputs": [
    {
     "name": "stdout",
     "output_type": "stream",
     "text": [
      "Downloading tweets...\n",
      "Saved 600\n",
      "Done. Output file generated \"output_got.csv\".\n"
     ]
    }
   ],
   "source": [
    "!GetOldTweets3 --querysearch \"CAA_NRC_Protests\" --since 2019-12-15 --until 2020-02-15 --maxtweets 600 --lang en --emoji unicode"
   ]
  },
  {
   "cell_type": "code",
   "execution_count": 10,
   "metadata": {},
   "outputs": [],
   "source": [
    "caa_nrc_protests = pd.read_csv(\"output_got.csv\")"
   ]
  },
  {
   "cell_type": "code",
   "execution_count": 11,
   "metadata": {},
   "outputs": [
    {
     "name": "stdout",
     "output_type": "stream",
     "text": [
      "Downloading tweets...\n",
      "Saved 600\n",
      "Done. Output file generated \"output_got.csv\".\n"
     ]
    }
   ],
   "source": [
    "!GetOldTweets3 --querysearch \"citizenshipamendmentbill\" --since 2019-12-15 --until 2020-02-15 --maxtweets 600 --lang en --emoji unicode"
   ]
  },
  {
   "cell_type": "code",
   "execution_count": 12,
   "metadata": {},
   "outputs": [],
   "source": [
    "bill = pd.read_csv(\"output_got.csv\")"
   ]
  },
  {
   "cell_type": "code",
   "execution_count": 13,
   "metadata": {},
   "outputs": [
    {
     "name": "stdout",
     "output_type": "stream",
     "text": [
      "Downloading tweets...\n",
      "Saved 600\n",
      "Done. Output file generated \"output_got.csv\".\n"
     ]
    }
   ],
   "source": [
    "#indiaagainstcab\n",
    "!GetOldTweets3 --querysearch \"indiaagainstcab\" --since 2019-12-15 --until 2020-02-15 --maxtweets 600 --lang en --emoji unicode"
   ]
  },
  {
   "cell_type": "code",
   "execution_count": 14,
   "metadata": {},
   "outputs": [],
   "source": [
    "against=pd.read_csv(\"output_got.csv\")"
   ]
  },
  {
   "cell_type": "code",
   "execution_count": 15,
   "metadata": {},
   "outputs": [],
   "source": [
    "pList=[nrc,caa,caa_nrc,caa_nrc_protests,bill,against]\n",
    "Ana_table = pd.concat(pList)\n",
    "Analysis=pd.DataFrame(Ana_table['text'])\n",
    "Analysis=Analysis.dropna()"
   ]
  },
  {
   "cell_type": "code",
   "execution_count": 16,
   "metadata": {},
   "outputs": [],
   "source": [
    "def sentiment_calc(text):\n",
    "    try:\n",
    "        return TextBlob(text).sentiment.polarity\n",
    "    except:\n",
    "        return None\n",
    "    \n",
    "\n",
    "\n",
    "Analysis['sentiment'] = Analysis['text'].apply(sentiment_calc)\n",
    "\n"
   ]
  },
  {
   "cell_type": "code",
   "execution_count": 17,
   "metadata": {},
   "outputs": [],
   "source": [
    "Analysis['label'] = 0\n",
    "Analysis.loc[Analysis['sentiment'] > 0 , 'label'] = 1\n",
    "Analysis.loc[(Analysis['sentiment'] == 0), 'label'] = 0\n",
    "Analysis.loc[Analysis['sentiment'] < 0, 'label'] = -1"
   ]
  },
  {
   "cell_type": "code",
   "execution_count": 19,
   "metadata": {},
   "outputs": [
    {
     "data": {
      "text/html": [
       "<div>\n",
       "<style scoped>\n",
       "    .dataframe tbody tr th:only-of-type {\n",
       "        vertical-align: middle;\n",
       "    }\n",
       "\n",
       "    .dataframe tbody tr th {\n",
       "        vertical-align: top;\n",
       "    }\n",
       "\n",
       "    .dataframe thead th {\n",
       "        text-align: right;\n",
       "    }\n",
       "</style>\n",
       "<table border=\"1\" class=\"dataframe\">\n",
       "  <thead>\n",
       "    <tr style=\"text-align: right;\">\n",
       "      <th></th>\n",
       "      <th>text</th>\n",
       "      <th>sentiment</th>\n",
       "      <th>label</th>\n",
       "    </tr>\n",
       "  </thead>\n",
       "  <tbody>\n",
       "    <tr>\n",
       "      <td>0</td>\n",
       "      <td>Peaceful CAA opposers not 'traitors, anti-nati...</td>\n",
       "      <td>0.166667</td>\n",
       "      <td>1</td>\n",
       "    </tr>\n",
       "    <tr>\n",
       "      <td>1</td>\n",
       "      <td>Gujarat College Girls Made To Strip To Detect ...</td>\n",
       "      <td>0.000000</td>\n",
       "      <td>0</td>\n",
       "    </tr>\n",
       "    <tr>\n",
       "      <td>2</td>\n",
       "      <td>Mns dont have d rights to impose nrc n check a...</td>\n",
       "      <td>0.100000</td>\n",
       "      <td>1</td>\n",
       "    </tr>\n",
       "    <tr>\n",
       "      <td>3</td>\n",
       "      <td>Yea right. He has no business being appointed ...</td>\n",
       "      <td>0.285714</td>\n",
       "      <td>1</td>\n",
       "    </tr>\n",
       "    <tr>\n",
       "      <td>4</td>\n",
       "      <td>@chennai police की बरबरियत Anti-CAA protestors...</td>\n",
       "      <td>-0.187500</td>\n",
       "      <td>-1</td>\n",
       "    </tr>\n",
       "    <tr>\n",
       "      <td>...</td>\n",
       "      <td>...</td>\n",
       "      <td>...</td>\n",
       "      <td>...</td>\n",
       "    </tr>\n",
       "    <tr>\n",
       "      <td>595</td>\n",
       "      <td>Sabka time ayenga, if you do not protest again...</td>\n",
       "      <td>0.000000</td>\n",
       "      <td>0</td>\n",
       "    </tr>\n",
       "    <tr>\n",
       "      <td>596</td>\n",
       "      <td>D Roopa IPS gets schooled by journalist Swati ...</td>\n",
       "      <td>0.000000</td>\n",
       "      <td>0</td>\n",
       "    </tr>\n",
       "    <tr>\n",
       "      <td>597</td>\n",
       "      <td>It’s Show Time MALWANI MALWANI AGAINST CAB NRC...</td>\n",
       "      <td>0.250000</td>\n",
       "      <td>1</td>\n",
       "    </tr>\n",
       "    <tr>\n",
       "      <td>598</td>\n",
       "      <td>Jai Hind The Nation is united irrespective of ...</td>\n",
       "      <td>0.150000</td>\n",
       "      <td>1</td>\n",
       "    </tr>\n",
       "    <tr>\n",
       "      <td>599</td>\n",
       "      <td>#YellowBuffaloDoodles We the People of India.....</td>\n",
       "      <td>0.000000</td>\n",
       "      <td>0</td>\n",
       "    </tr>\n",
       "  </tbody>\n",
       "</table>\n",
       "<p>3600 rows × 3 columns</p>\n",
       "</div>"
      ],
      "text/plain": [
       "                                                  text  sentiment  label\n",
       "0    Peaceful CAA opposers not 'traitors, anti-nati...   0.166667      1\n",
       "1    Gujarat College Girls Made To Strip To Detect ...   0.000000      0\n",
       "2    Mns dont have d rights to impose nrc n check a...   0.100000      1\n",
       "3    Yea right. He has no business being appointed ...   0.285714      1\n",
       "4    @chennai police की बरबरियत Anti-CAA protestors...  -0.187500     -1\n",
       "..                                                 ...        ...    ...\n",
       "595  Sabka time ayenga, if you do not protest again...   0.000000      0\n",
       "596  D Roopa IPS gets schooled by journalist Swati ...   0.000000      0\n",
       "597  It’s Show Time MALWANI MALWANI AGAINST CAB NRC...   0.250000      1\n",
       "598  Jai Hind The Nation is united irrespective of ...   0.150000      1\n",
       "599  #YellowBuffaloDoodles We the People of India.....   0.000000      0\n",
       "\n",
       "[3600 rows x 3 columns]"
      ]
     },
     "execution_count": 19,
     "metadata": {},
     "output_type": "execute_result"
    }
   ],
   "source": [
    "Analysis"
   ]
  },
  {
   "cell_type": "code",
   "execution_count": 20,
   "metadata": {},
   "outputs": [],
   "source": [
    "Analysis.to_csv('final.csv',index=False)\n"
   ]
  },
  {
   "cell_type": "code",
   "execution_count": null,
   "metadata": {},
   "outputs": [],
   "source": []
  },
  {
   "cell_type": "code",
   "execution_count": null,
   "metadata": {},
   "outputs": [],
   "source": []
  },
  {
   "cell_type": "code",
   "execution_count": null,
   "metadata": {},
   "outputs": [],
   "source": []
  }
 ],
 "metadata": {
  "kernelspec": {
   "display_name": "Python 3",
   "language": "python",
   "name": "python3"
  },
  "language_info": {
   "codemirror_mode": {
    "name": "ipython",
    "version": 3
   },
   "file_extension": ".py",
   "mimetype": "text/x-python",
   "name": "python",
   "nbconvert_exporter": "python",
   "pygments_lexer": "ipython3",
   "version": "3.7.4"
  }
 },
 "nbformat": 4,
 "nbformat_minor": 2
}
